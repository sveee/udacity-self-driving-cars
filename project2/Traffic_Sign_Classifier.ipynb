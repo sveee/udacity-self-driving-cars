{
 "cells": [
  {
   "cell_type": "markdown",
   "metadata": {},
   "source": [
    "# Self-Driving Car Engineer Nanodegree\n",
    "\n",
    "## Deep Learning\n",
    "\n",
    "## Project: Build a Traffic Sign Recognition Classifier\n",
    "\n",
    "In this notebook, a template is provided for you to implement your functionality in stages, which is required to successfully complete this project. If additional code is required that cannot be included in the notebook, be sure that the Python code is successfully imported and included in your submission if necessary. \n",
    "\n",
    "> **Note**: Once you have completed all of the code implementations, you need to finalize your work by exporting the iPython Notebook as an HTML document. Before exporting the notebook to html, all of the code cells need to have been run so that reviewers can see the final implementation and output. You can then export the notebook by using the menu above and navigating to  \\n\",\n",
    "    \"**File -> Download as -> HTML (.html)**. Include the finished document along with this notebook as your submission. \n",
    "\n",
    "In addition to implementing code, there is a writeup to complete. The writeup should be completed in a separate file, which can be either a markdown file or a pdf document. There is a [write up template](https://github.com/udacity/CarND-Traffic-Sign-Classifier-Project/blob/master/writeup_template.md) that can be used to guide the writing process. Completing the code template and writeup template will cover all of the [rubric points](https://review.udacity.com/#!/rubrics/481/view) for this project.\n",
    "\n",
    "The [rubric](https://review.udacity.com/#!/rubrics/481/view) contains \"Stand Out Suggestions\" for enhancing the project beyond the minimum requirements. The stand out suggestions are optional. If you decide to pursue the \"stand out suggestions\", you can include the code in this Ipython notebook and also discuss the results in the writeup file.\n",
    "\n",
    "\n",
    ">**Note:** Code and Markdown cells can be executed using the **Shift + Enter** keyboard shortcut. In addition, Markdown cells can be edited by typically double-clicking the cell to enter edit mode."
   ]
  },
  {
   "cell_type": "markdown",
   "metadata": {},
   "source": [
    "---\n",
    "## Step 0: Load The Data"
   ]
  },
  {
   "cell_type": "code",
   "execution_count": 1,
   "metadata": {},
   "outputs": [],
   "source": [
    "# Load pickled data\n",
    "import pickle\n",
    "\n",
    "# TODO: Fill this in based on where you saved the training and testing data\n",
    "\n",
    "training_file = '/traffic-signs/train.p'\n",
    "validation_file= '/traffic-signs/valid.p'\n",
    "testing_file = '/traffic-signs/test.p'\n",
    "\n",
    "with open(training_file, mode='rb') as f:\n",
    "    train = pickle.load(f)\n",
    "with open(validation_file, mode='rb') as f:\n",
    "    valid = pickle.load(f)\n",
    "with open(testing_file, mode='rb') as f:\n",
    "    test = pickle.load(f)\n",
    "    \n",
    "X_train, y_train = train['features'], train['labels']\n",
    "X_valid, y_valid = valid['features'], valid['labels']\n",
    "X_test, y_test = test['features'], test['labels']"
   ]
  },
  {
   "cell_type": "markdown",
   "metadata": {},
   "source": [
    "---\n",
    "\n",
    "## Step 1: Dataset Summary & Exploration\n",
    "\n",
    "The pickled data is a dictionary with 4 key/value pairs:\n",
    "\n",
    "- `'features'` is a 4D array containing raw pixel data of the traffic sign images, (num examples, width, height, channels).\n",
    "- `'labels'` is a 1D array containing the label/class id of the traffic sign. The file `signnames.csv` contains id -> name mappings for each id.\n",
    "- `'sizes'` is a list containing tuples, (width, height) representing the original width and height the image.\n",
    "- `'coords'` is a list containing tuples, (x1, y1, x2, y2) representing coordinates of a bounding box around the sign in the image. **THESE COORDINATES ASSUME THE ORIGINAL IMAGE. THE PICKLED DATA CONTAINS RESIZED VERSIONS (32 by 32) OF THESE IMAGES**\n",
    "\n",
    "Complete the basic data summary below. Use python, numpy and/or pandas methods to calculate the data summary rather than hard coding the results. For example, the [pandas shape method](http://pandas.pydata.org/pandas-docs/stable/generated/pandas.DataFrame.shape.html) might be useful for calculating some of the summary results. "
   ]
  },
  {
   "cell_type": "markdown",
   "metadata": {},
   "source": [
    "### Provide a Basic Summary of the Data Set Using Python, Numpy and/or Pandas"
   ]
  },
  {
   "cell_type": "code",
   "execution_count": 2,
   "metadata": {},
   "outputs": [
    {
     "name": "stdout",
     "output_type": "stream",
     "text": [
      "Number of training examples = 34799\n",
      "Number of testing examples = 12630\n",
      "Image data shape = (32, 32, 3)\n",
      "Number of classes = 43\n"
     ]
    }
   ],
   "source": [
    "### Replace each question mark with the appropriate value. \n",
    "### Use python, pandas or numpy methods rather than hard coding the results\n",
    "\n",
    "# TODO: Number of training examples\n",
    "n_train = X_train.shape[0]\n",
    "\n",
    "# TODO: Number of validation examples\n",
    "n_validation = X_valid.shape[0]\n",
    "\n",
    "# TODO: Number of testing examples.\n",
    "n_test = X_test.shape[0]\n",
    "\n",
    "# TODO: What's the shape of an traffic sign image?\n",
    "image_shape = X_train.shape[1:]\n",
    "\n",
    "# TODO: How many unique classes/labels there are in the dataset.\n",
    "n_classes = len(set(y_train) | set(y_valid) | set(y_test))\n",
    "\n",
    "print(\"Number of training examples =\", n_train)\n",
    "print(\"Number of testing examples =\", n_test)\n",
    "print(\"Image data shape =\", image_shape)\n",
    "print(\"Number of classes =\", n_classes)"
   ]
  },
  {
   "cell_type": "markdown",
   "metadata": {},
   "source": [
    "### Include an exploratory visualization of the dataset"
   ]
  },
  {
   "cell_type": "markdown",
   "metadata": {},
   "source": [
    "Visualize the German Traffic Signs Dataset using the pickled file(s). This is open ended, suggestions include: plotting traffic sign images, plotting the count of each sign, etc. \n",
    "\n",
    "The [Matplotlib](http://matplotlib.org/) [examples](http://matplotlib.org/examples/index.html) and [gallery](http://matplotlib.org/gallery.html) pages are a great resource for doing visualizations in Python.\n",
    "\n",
    "**NOTE:** It's recommended you start with something simple first. If you wish to do more, come back to it after you've completed the rest of the sections. It can be interesting to look at the distribution of classes in the training, validation and test set. Is the distribution the same? Are there more examples of some classes than others?"
   ]
  },
  {
   "cell_type": "code",
   "execution_count": 3,
   "metadata": {},
   "outputs": [],
   "source": [
    "### Data exploration visualization code goes here.\n",
    "### Feel free to use as many code cells as needed.\n",
    "import matplotlib.pyplot as plt\n",
    "# Visualizations will be shown in the notebook.\n",
    "%matplotlib inline"
   ]
  },
  {
   "cell_type": "code",
   "execution_count": 4,
   "metadata": {},
   "outputs": [],
   "source": [
    "from collections import Counter\n",
    "import random\n",
    "import matplotlib.image as mpimg"
   ]
  },
  {
   "cell_type": "code",
   "execution_count": 5,
   "metadata": {},
   "outputs": [
    {
     "data": {
      "image/png": "[encoded data removed]",
      "text/plain": [
       "<matplotlib.figure.Figure at 0x7f1a2fb75eb8>"
      ]
     },
     "metadata": {},
     "output_type": "display_data"
    },
    {
     "data": {
      "image/png": "[encoded data removed]",
      "text/plain": [
       "<matplotlib.figure.Figure at 0x7f1a5c482588>"
      ]
     },
     "metadata": {},
     "output_type": "display_data"
    },
    {
     "data": {
      "image/png": "[encoded data removed]",
      "text/plain": [
       "<matplotlib.figure.Figure at 0x7f1a61c6d198>"
      ]
     },
     "metadata": {},
     "output_type": "display_data"
    },
    {
     "data": {
      "image/png": "[encoded data removed]",
      "text/plain": [
       "<matplotlib.figure.Figure at 0x7f1a28dabc50>"
      ]
     },
     "metadata": {},
     "output_type": "display_data"
    },
    {
     "data": {
      "image/png": "[encoded data removed]",
      "text/plain": [
       "<matplotlib.figure.Figure at 0x7f1a28c64be0>"
      ]
     },
     "metadata": {},
     "output_type": "display_data"
    },
    {
     "data": {
      "image/png": "[encoded data removed]",
      "text/plain": [
       "<matplotlib.figure.Figure at 0x7f1a28c64ba8>"
      ]
     },
     "metadata": {},
     "output_type": "display_data"
    }
   ],
   "source": [
    "def label_dist(labels, s):\n",
    "\n",
    "\n",
    "    c = Counter(labels)\n",
    "\n",
    "    xhs = list(c.items())\n",
    "    xs = list(map(lambda x: x[0], xhs))\n",
    "    hs = list(map(lambda x: x[1], xhs))\n",
    "    plt.figure()\n",
    "    plt.title('Label distribution of %s' % s)\n",
    "    plt.bar(xs, hs)\n",
    "    plt.plot()\n",
    "    \n",
    "def plot_sign(data, labels):\n",
    "    \n",
    "    i = random.randrange(data.shape[0])\n",
    "    \n",
    "    plt.figure()\n",
    "    plt.title('Image of a sign with label %s' % str(labels[i]))\n",
    "    plt.imshow(data[i])\n",
    "    plt.plot()\n",
    "    \n",
    "label_dist(y_train, 'y_train')\n",
    "label_dist(y_valid, 'y_valid')\n",
    "label_dist(y_test, 'y_test')\n",
    "random.seed(42)\n",
    "plot_sign(X_train, y_train)\n",
    "plot_sign(X_valid, y_valid)\n",
    "plot_sign(X_test, y_test)"
   ]
  },
  {
   "cell_type": "markdown",
   "metadata": {},
   "source": [
    "----\n",
    "\n",
    "## Step 2: Design and Test a Model Architecture\n",
    "\n",
    "Design and implement a deep learning model that learns to recognize traffic signs. Train and test your model on the [German Traffic Sign Dataset](http://benchmark.ini.rub.de/?section=gtsrb&subsection=dataset).\n",
    "\n",
    "The LeNet-5 implementation shown in the [classroom](https://classroom.udacity.com/nanodegrees/nd013/parts/fbf77062-5703-404e-b60c-95b78b2f3f9e/modules/6df7ae49-c61c-4bb2-a23e-6527e69209ec/lessons/601ae704-1035-4287-8b11-e2c2716217ad/concepts/d4aca031-508f-4e0b-b493-e7b706120f81) at the end of the CNN lesson is a solid starting point. You'll have to change the number of classes and possibly the preprocessing, but aside from that it's plug and play! \n",
    "\n",
    "With the LeNet-5 solution from the lecture, you should expect a validation set accuracy of about 0.89. To meet specifications, the validation set accuracy will need to be at least 0.93. It is possible to get an even higher accuracy, but 0.93 is the minimum for a successful project submission. \n",
    "\n",
    "There are various aspects to consider when thinking about this problem:\n",
    "\n",
    "- Neural network architecture (is the network over or underfitting?)\n",
    "- Play around preprocessing techniques (normalization, rgb to grayscale, etc)\n",
    "- Number of examples per label (some have more than others).\n",
    "- Generate fake data.\n",
    "\n",
    "Here is an example of a [published baseline model on this problem](http://yann.lecun.com/exdb/publis/pdf/sermanet-ijcnn-11.pdf). It's not required to be familiar with the approach used in the paper but, it's good practice to try to read papers like these."
   ]
  },
  {
   "cell_type": "markdown",
   "metadata": {},
   "source": [
    "### Pre-process the Data Set (normalization, grayscale, etc.)"
   ]
  },
  {
   "cell_type": "markdown",
   "metadata": {},
   "source": [
    "Minimally, the image data should be normalized so that the data has mean zero and equal variance. For image data, `(pixel - 128)/ 128` is a quick way to approximately normalize the data and can be used in this project. \n",
    "\n",
    "Other pre-processing steps are optional. You can try different techniques to see if it improves performance. \n",
    "\n",
    "Use the code cell (or multiple code cells, if necessary) to implement the first step of your project."
   ]
  },
  {
   "cell_type": "code",
   "execution_count": 6,
   "metadata": {},
   "outputs": [],
   "source": [
    "def preprocess(X):\n",
    "    \n",
    "    Xp = (X - 128.0) / 255\n",
    "#     Xp = Xp.mean(axis=3)\n",
    "#     Xp = Xp[:, :, :, np.newaxis]\n",
    "    return Xp\n",
    "\n",
    "X_train = preprocess(X_train)\n",
    "X_valid = preprocess(X_valid)\n",
    "X_test = preprocess(X_test)"
   ]
  },
  {
   "cell_type": "markdown",
   "metadata": {},
   "source": [
    "### Model Architecture"
   ]
  },
  {
   "cell_type": "code",
   "execution_count": 7,
   "metadata": {},
   "outputs": [],
   "source": [
    "import tensorflow as tf\n",
    "\n",
    "from sklearn.utils import shuffle\n",
    "from tensorflow.contrib.layers import flatten"
   ]
  },
  {
   "cell_type": "code",
   "execution_count": 8,
   "metadata": {},
   "outputs": [],
   "source": [
    "### Define your architecture here.\n",
    "### Feel free to use as many code cells as needed.\n",
    "\n",
    "\n",
    "def LeNet(mu=0.0, sigma=0.1, beta=0.0):    \n",
    "    # Arguments used for tf.truncated_normal, randomly defines variables for the weights and biases for each layer\n",
    "    \n",
    "    x = tf.placeholder(tf.float32, (None, 32, 32, 3))\n",
    "    y = tf.placeholder(tf.int32, (None))\n",
    "    keep_prob = tf.placeholder(tf.float32)\n",
    "    one_hot_y = tf.one_hot(y, 43)\n",
    "    \n",
    "    # SOLUTION: Layer 1: Convolutional. Input = 32x32x1. Output = 28x28x6.\n",
    "    conv1_W = tf.Variable(tf.truncated_normal(shape=(5, 5, 3, 8), mean = mu, stddev = sigma))\n",
    "    conv1_b = tf.Variable(tf.zeros(8))\n",
    "    conv1   = tf.nn.conv2d(x, conv1_W, strides=[1, 1, 1, 1], padding='VALID') + conv1_b\n",
    "\n",
    "    # SOLUTION: Activation.\n",
    "    conv1 = tf.nn.relu(conv1)\n",
    "\n",
    "    # SOLUTION: Pooling. Input = 28x28x6. Output = 14x14x6.\n",
    "    conv1 = tf.nn.max_pool(conv1, ksize=[1, 2, 2, 1], strides=[1, 2, 2, 1], padding='VALID')\n",
    "\n",
    "    # SOLUTION: Layer 2: Convolutional. Output = 10x10x16.\n",
    "    conv2_W = tf.Variable(tf.truncated_normal(shape=(5, 5, 8, 16), mean = mu, stddev = sigma))\n",
    "    conv2_b = tf.Variable(tf.zeros(16))\n",
    "    conv2   = tf.nn.conv2d(conv1, conv2_W, strides=[1, 1, 1, 1], padding='VALID') + conv2_b\n",
    "    \n",
    "    # SOLUTION: Activation.\n",
    "    conv2 = tf.nn.relu(conv2)\n",
    "\n",
    "    # SOLUTION: Pooling. Input = 10x10x16. Output = 5x5x16.\n",
    "    conv2 = tf.nn.max_pool(conv2, ksize=[1, 2, 2, 1], strides=[1, 2, 2, 1], padding='VALID')\n",
    "\n",
    "    # SOLUTION: Flatten. Input = 5x5x16. Output = 400.\n",
    "    fc0   = flatten(conv2)\n",
    "    \n",
    "    # SOLUTION: Layer 3: Fully Connected. Input = 400. Output = 120.\n",
    "    fc1_W = tf.Variable(tf.truncated_normal(shape=(400, 250), mean = mu, stddev = sigma))\n",
    "    fc1_b = tf.Variable(tf.zeros(250))\n",
    "    fc1   = tf.matmul(fc0, fc1_W) + fc1_b\n",
    "    \n",
    "    # SOLUTION: Activation.\n",
    "    fc1    = tf.nn.relu(fc1)\n",
    "    fc1 = tf.nn.dropout(fc1, keep_prob)\n",
    "\n",
    "#     fc1 = tf.layers.dropout(fc1, rate=, training=is_training)\n",
    "    \n",
    "    # SOLUTION: Layer 4: Fully Connected. Input = 120. Output = 84.\n",
    "    fc2_W  = tf.Variable(tf.truncated_normal(shape=(250, 100), mean = mu, stddev = sigma))\n",
    "    fc2_b  = tf.Variable(tf.zeros(100))\n",
    "    fc2    = tf.matmul(fc1, fc2_W) + fc2_b\n",
    "    \n",
    "    # SOLUTION: Activation.\n",
    "    fc2    = tf.nn.relu(fc2)\n",
    "    fc2 = tf.nn.dropout(fc2, keep_prob)\n",
    "\n",
    "    # SOLUTION: Layer 5: Fully Connected. Input = 84. Output = 10.\n",
    "    fc3_W  = tf.Variable(tf.truncated_normal(shape=(100, 43), mean = mu, stddev = sigma))\n",
    "    fc3_b  = tf.Variable(tf.zeros(43))\n",
    "    logits = tf.matmul(fc2, fc3_W) + fc3_b\n",
    "\n",
    "    cross_entropy = tf.nn.softmax_cross_entropy_with_logits(labels=one_hot_y, logits=logits)\n",
    "    loss_operation = tf.reduce_mean(cross_entropy)\n",
    "    optimizer = tf.train.AdamOptimizer(learning_rate=RATE)\n",
    "    regularization = tf.nn.l2_loss(conv1_W) + \\\n",
    "                     tf.nn.l2_loss(conv2_W) + \\\n",
    "                     tf.nn.l2_loss(fc1_W) + \\\n",
    "                     tf.nn.l2_loss(fc2_W) + \\\n",
    "                     tf.nn.l2_loss(fc3_W)\n",
    "    training_operation = optimizer.minimize(loss_operation+beta*regularization)\n",
    "\n",
    "    correct_prediction = tf.equal(tf.argmax(logits, 1), tf.argmax(one_hot_y, 1))\n",
    "    accuracy_operation = tf.reduce_mean(tf.cast(correct_prediction, tf.float32))\n",
    "    \n",
    "    return x, y, logits, keep_prob, training_operation, accuracy_operation"
   ]
  },
  {
   "cell_type": "code",
   "execution_count": 9,
   "metadata": {},
   "outputs": [],
   "source": [
    "### Train your model here.\n",
    "### Calculate and report the accuracy on the training and validation set.\n",
    "### Once a final model architecture is selected, \n",
    "### the accuracy on the test set should be calculated and reported as well.\n",
    "### Feel free to use as many code cells as needed.\n",
    "\n",
    "RATE = 0.001\n",
    "EPOCHS = 60\n",
    "BATCH_SIZE = 1024\n",
    "KEEP_PROB = 0.5\n",
    "\n",
    "x, y, logits, keep_prob, training_operation, accuracy_operation = LeNet(beta=0.0)\n",
    "saver = tf.train.Saver()\n",
    "\n",
    "\n",
    "def evaluate(X_data, y_data):\n",
    "    num_examples = len(X_data)\n",
    "    total_accuracy = 0\n",
    "    sess = tf.get_default_session()\n",
    "    for offset in range(0, num_examples, BATCH_SIZE):\n",
    "        batch_x, batch_y = X_data[offset:offset+BATCH_SIZE], y_data[offset:offset+BATCH_SIZE]\n",
    "        accuracy = sess.run(accuracy_operation, feed_dict={x: batch_x, y: batch_y, keep_prob: 1.0})\n",
    "        total_accuracy += (accuracy * len(batch_x))\n",
    "    return total_accuracy / num_examples"
   ]
  },
  {
   "cell_type": "code",
   "execution_count": 11,
   "metadata": {},
   "outputs": [
    {
     "name": "stdout",
     "output_type": "stream",
     "text": [
      "Training...\n",
      "\n",
      "EPOCH 1 ...\n",
      "Train Accuracy = 0.291 Validation Accuracy = 0.233\n",
      "\n",
      "EPOCH 2 ...\n",
      "Train Accuracy = 0.470 Validation Accuracy = 0.403\n",
      "\n",
      "EPOCH 3 ...\n",
      "Train Accuracy = 0.580 Validation Accuracy = 0.511\n",
      "\n",
      "EPOCH 4 ...\n",
      "Train Accuracy = 0.713 Validation Accuracy = 0.637\n",
      "\n",
      "EPOCH 5 ...\n",
      "Train Accuracy = 0.809 Validation Accuracy = 0.736\n",
      "\n",
      "EPOCH 6 ...\n",
      "Train Accuracy = 0.867 Validation Accuracy = 0.798\n",
      "\n",
      "EPOCH 7 ...\n",
      "Train Accuracy = 0.898 Validation Accuracy = 0.825\n",
      "\n",
      "EPOCH 8 ...\n",
      "Train Accuracy = 0.920 Validation Accuracy = 0.842\n",
      "\n",
      "EPOCH 9 ...\n",
      "Train Accuracy = 0.938 Validation Accuracy = 0.866\n",
      "\n",
      "EPOCH 10 ...\n",
      "Train Accuracy = 0.948 Validation Accuracy = 0.877\n",
      "\n",
      "EPOCH 11 ...\n",
      "Train Accuracy = 0.957 Validation Accuracy = 0.896\n",
      "\n",
      "EPOCH 12 ...\n",
      "Train Accuracy = 0.964 Validation Accuracy = 0.905\n",
      "\n",
      "EPOCH 13 ...\n",
      "Train Accuracy = 0.968 Validation Accuracy = 0.904\n",
      "\n",
      "EPOCH 14 ...\n",
      "Train Accuracy = 0.971 Validation Accuracy = 0.915\n",
      "\n",
      "EPOCH 15 ...\n",
      "Train Accuracy = 0.972 Validation Accuracy = 0.912\n",
      "\n",
      "EPOCH 16 ...\n",
      "Train Accuracy = 0.975 Validation Accuracy = 0.916\n",
      "\n",
      "EPOCH 17 ...\n",
      "Train Accuracy = 0.976 Validation Accuracy = 0.919\n",
      "\n",
      "EPOCH 18 ...\n",
      "Train Accuracy = 0.981 Validation Accuracy = 0.926\n",
      "\n",
      "EPOCH 19 ...\n",
      "Train Accuracy = 0.980 Validation Accuracy = 0.922\n",
      "\n",
      "EPOCH 20 ...\n",
      "Train Accuracy = 0.984 Validation Accuracy = 0.929\n",
      "\n",
      "EPOCH 21 ...\n",
      "Train Accuracy = 0.985 Validation Accuracy = 0.938\n",
      "\n",
      "EPOCH 22 ...\n",
      "Train Accuracy = 0.986 Validation Accuracy = 0.935\n",
      "\n",
      "EPOCH 23 ...\n",
      "Train Accuracy = 0.986 Validation Accuracy = 0.935\n",
      "\n",
      "EPOCH 24 ...\n",
      "Train Accuracy = 0.988 Validation Accuracy = 0.941\n",
      "\n",
      "EPOCH 25 ...\n",
      "Train Accuracy = 0.989 Validation Accuracy = 0.938\n",
      "\n",
      "EPOCH 26 ...\n",
      "Train Accuracy = 0.990 Validation Accuracy = 0.940\n",
      "\n",
      "EPOCH 27 ...\n",
      "Train Accuracy = 0.989 Validation Accuracy = 0.941\n",
      "\n",
      "EPOCH 28 ...\n",
      "Train Accuracy = 0.990 Validation Accuracy = 0.942\n",
      "\n",
      "EPOCH 29 ...\n",
      "Train Accuracy = 0.991 Validation Accuracy = 0.943\n",
      "\n",
      "EPOCH 30 ...\n",
      "Train Accuracy = 0.992 Validation Accuracy = 0.940\n",
      "\n",
      "EPOCH 31 ...\n",
      "Train Accuracy = 0.992 Validation Accuracy = 0.945\n",
      "\n",
      "EPOCH 32 ...\n",
      "Train Accuracy = 0.993 Validation Accuracy = 0.946\n",
      "\n",
      "EPOCH 33 ...\n",
      "Train Accuracy = 0.994 Validation Accuracy = 0.946\n",
      "\n",
      "EPOCH 34 ...\n",
      "Train Accuracy = 0.994 Validation Accuracy = 0.945\n",
      "\n",
      "EPOCH 35 ...\n",
      "Train Accuracy = 0.994 Validation Accuracy = 0.943\n",
      "\n",
      "EPOCH 36 ...\n",
      "Train Accuracy = 0.995 Validation Accuracy = 0.944\n",
      "\n",
      "EPOCH 37 ...\n",
      "Train Accuracy = 0.995 Validation Accuracy = 0.947\n",
      "\n",
      "EPOCH 38 ...\n",
      "Train Accuracy = 0.996 Validation Accuracy = 0.948\n",
      "\n",
      "EPOCH 39 ...\n",
      "Train Accuracy = 0.996 Validation Accuracy = 0.951\n",
      "\n",
      "EPOCH 40 ...\n",
      "Train Accuracy = 0.995 Validation Accuracy = 0.949\n",
      "\n",
      "EPOCH 41 ...\n",
      "Train Accuracy = 0.997 Validation Accuracy = 0.953\n",
      "\n",
      "EPOCH 42 ...\n",
      "Train Accuracy = 0.996 Validation Accuracy = 0.950\n",
      "\n",
      "EPOCH 43 ...\n",
      "Train Accuracy = 0.997 Validation Accuracy = 0.946\n",
      "\n",
      "EPOCH 44 ...\n",
      "Train Accuracy = 0.997 Validation Accuracy = 0.948\n",
      "\n",
      "EPOCH 45 ...\n",
      "Train Accuracy = 0.997 Validation Accuracy = 0.951\n",
      "\n",
      "EPOCH 46 ...\n",
      "Train Accuracy = 0.997 Validation Accuracy = 0.949\n",
      "\n",
      "EPOCH 47 ...\n",
      "Train Accuracy = 0.998 Validation Accuracy = 0.953\n",
      "\n",
      "EPOCH 48 ...\n",
      "Train Accuracy = 0.998 Validation Accuracy = 0.951\n",
      "\n",
      "EPOCH 49 ...\n",
      "Train Accuracy = 0.998 Validation Accuracy = 0.951\n",
      "\n",
      "EPOCH 50 ...\n",
      "Train Accuracy = 0.998 Validation Accuracy = 0.954\n",
      "\n",
      "EPOCH 51 ...\n",
      "Train Accuracy = 0.998 Validation Accuracy = 0.955\n",
      "\n",
      "EPOCH 52 ...\n",
      "Train Accuracy = 0.998 Validation Accuracy = 0.952\n",
      "\n",
      "EPOCH 53 ...\n",
      "Train Accuracy = 0.998 Validation Accuracy = 0.961\n",
      "\n",
      "EPOCH 54 ...\n",
      "Train Accuracy = 0.998 Validation Accuracy = 0.957\n",
      "\n",
      "EPOCH 55 ...\n",
      "Train Accuracy = 0.998 Validation Accuracy = 0.956\n",
      "\n",
      "EPOCH 56 ...\n",
      "Train Accuracy = 0.998 Validation Accuracy = 0.960\n",
      "\n",
      "EPOCH 57 ...\n",
      "Train Accuracy = 0.999 Validation Accuracy = 0.965\n",
      "\n",
      "EPOCH 58 ...\n",
      "Train Accuracy = 0.999 Validation Accuracy = 0.959\n",
      "\n",
      "EPOCH 59 ...\n",
      "Train Accuracy = 0.999 Validation Accuracy = 0.959\n",
      "\n",
      "EPOCH 60 ...\n",
      "Train Accuracy = 0.998 Validation Accuracy = 0.954\n",
      "\n",
      "Model saved\n"
     ]
    }
   ],
   "source": [
    "\n",
    "with tf.Session() as sess:\n",
    "    sess.run(tf.global_variables_initializer())\n",
    "    num_examples = len(X_train)\n",
    "    \n",
    "    print(\"Training...\")\n",
    "    print()\n",
    "    for i in range(EPOCHS):\n",
    "        X_train, y_train = shuffle(X_train, y_train)\n",
    "        for offset in range(0, num_examples, BATCH_SIZE):\n",
    "            end = offset + BATCH_SIZE\n",
    "            X_batch, y_batch = X_train[offset:end], y_train[offset:end]\n",
    "            sess.run(training_operation, feed_dict={x: X_batch, y: y_batch, keep_prob: KEEP_PROB})\n",
    "            \n",
    "        train_accuracy = evaluate(X_train, y_train)\n",
    "        validation_accuracy = evaluate(X_valid, y_valid)\n",
    "        print(\"EPOCH {} ...\".format(i+1))\n",
    "        print(\"Train Accuracy = {:.3f} Validation Accuracy = {:.3f}\".format(train_accuracy, \n",
    "                                                                            validation_accuracy))\n",
    "        print()\n",
    "        \n",
    "    saver.save(sess, './lenet')\n",
    "    print(\"Model saved\")"
   ]
  },
  {
   "cell_type": "code",
   "execution_count": 12,
   "metadata": {},
   "outputs": [
    {
     "name": "stdout",
     "output_type": "stream",
     "text": [
      "INFO:tensorflow:Restoring parameters from ./lenet\n",
      "Validation Accuracy = 0.954 Test Accuracy = 0.941\n"
     ]
    }
   ],
   "source": [
    "with tf.Session() as sess:\n",
    "    # Restore variables from disk.\n",
    "    saver.restore(sess, \"./lenet\")\n",
    "    \n",
    "    validation_accuracy = evaluate(X_valid, y_valid)\n",
    "    test_accuracy = evaluate(X_test, y_test)\n",
    "    print(\"Validation Accuracy = {:.3f} Test Accuracy = {:.3f}\".format(validation_accuracy, \n",
    "                                                                            test_accuracy))"
   ]
  },
  {
   "cell_type": "markdown",
   "metadata": {},
   "source": [
    "---\n",
    "\n",
    "## Step 3: Test a Model on New Images\n",
    "\n",
    "To give yourself more insight into how your model is working, download at least five pictures of German traffic signs from the web and use your model to predict the traffic sign type.\n",
    "\n",
    "You may find `signnames.csv` useful as it contains mappings from the class id (integer) to the actual sign name."
   ]
  },
  {
   "cell_type": "markdown",
   "metadata": {},
   "source": [
    "### Load and Output the Images"
   ]
  },
  {
   "cell_type": "code",
   "execution_count": 13,
   "metadata": {},
   "outputs": [],
   "source": [
    "import cv2\n",
    "import numpy as np"
   ]
  },
  {
   "cell_type": "code",
   "execution_count": 14,
   "metadata": {},
   "outputs": [
    {
     "data": {
      "image/png": "[encoded data removed]",
      "text/plain": [
       "<matplotlib.figure.Figure at 0x7f1a28ad80f0>"
      ]
     },
     "metadata": {},
     "output_type": "display_data"
    },
    {
     "data": {
      "image/png": "[encoded data removed]",
      "text/plain": [
       "<matplotlib.figure.Figure at 0x7f1a20b4b940>"
      ]
     },
     "metadata": {},
     "output_type": "display_data"
    },
    {
     "data": {
      "image/png": "[encoded data removed]",
      "text/plain": [
       "<matplotlib.figure.Figure at 0x7f1a1db3a128>"
      ]
     },
     "metadata": {},
     "output_type": "display_data"
    },
    {
     "data": {
      "image/png": "[encoded data removed]",
      "text/plain": [
       "<matplotlib.figure.Figure at 0x7f1a1daf2860>"
      ]
     },
     "metadata": {},
     "output_type": "display_data"
    },
    {
     "data": {
      "image/png": "[encoded data removed]",
      "text/plain": [
       "<matplotlib.figure.Figure at 0x7f1a173a8cf8>"
      ]
     },
     "metadata": {},
     "output_type": "display_data"
    }
   ],
   "source": [
    "\n",
    "new_signs = []\n",
    "for i in range(1, 6):\n",
    "    new_sign = mpimg.imread('/traffic-signs/sign%d.jpg' % i)\n",
    "    new_sign = cv2.resize(new_sign, dsize=(32, 32))\n",
    "    new_signs.append(new_sign)\n",
    "    plt.figure()\n",
    "    plt.title('Sign%d' % i)\n",
    "    plt.imshow(new_sign)\n",
    "    \n",
    "new_signs = np.array(new_signs)"
   ]
  },
  {
   "cell_type": "code",
   "execution_count": 15,
   "metadata": {},
   "outputs": [
    {
     "data": {
      "text/plain": [
       "(5, 32, 32, 3)"
      ]
     },
     "execution_count": 15,
     "metadata": {},
     "output_type": "execute_result"
    }
   ],
   "source": [
    "new_signs.shape"
   ]
  },
  {
   "cell_type": "markdown",
   "metadata": {},
   "source": [
    "### Predict the Sign Type for Each Image"
   ]
  },
  {
   "cell_type": "code",
   "execution_count": 16,
   "metadata": {},
   "outputs": [],
   "source": [
    "new_signs = preprocess(new_signs)"
   ]
  },
  {
   "cell_type": "code",
   "execution_count": 17,
   "metadata": {},
   "outputs": [],
   "source": [
    "new_signs = new_signs.astype(np.float)"
   ]
  },
  {
   "cell_type": "code",
   "execution_count": 18,
   "metadata": {},
   "outputs": [
    {
     "data": {
      "text/plain": [
       "dtype('float64')"
      ]
     },
     "execution_count": 18,
     "metadata": {},
     "output_type": "execute_result"
    }
   ],
   "source": [
    "new_signs.dtype"
   ]
  },
  {
   "cell_type": "code",
   "execution_count": 19,
   "metadata": {},
   "outputs": [
    {
     "data": {
      "text/plain": [
       "array([[[ 0.09019608,  0.12941176,  0.21568627],\n",
       "        [-0.02745098,  0.04313725,  0.15686275],\n",
       "        [-0.15294118, -0.05882353,  0.10196078],\n",
       "        ..., \n",
       "        [ 0.07058824,  0.09803922,  0.19607843],\n",
       "        [-0.04313725,  0.01568627,  0.12941176],\n",
       "        [-0.16078431, -0.0745098 ,  0.08235294]],\n",
       "\n",
       "       [[-0.18431373, -0.07058824,  0.09411765],\n",
       "        [-0.19607843, -0.0745098 ,  0.09019608],\n",
       "        [-0.22352941, -0.09803922,  0.10196078],\n",
       "        ..., \n",
       "        [ 0.16470588,  0.17647059,  0.23137255],\n",
       "        [ 0.10980392,  0.12941176,  0.21176471],\n",
       "        [-0.0745098 , -0.00392157,  0.1372549 ]],\n",
       "\n",
       "       [[-0.23529412, -0.09411765,  0.10980392],\n",
       "        [-0.23529412, -0.09411765,  0.10980392],\n",
       "        [-0.23137255, -0.10196078,  0.09803922],\n",
       "        ..., \n",
       "        [-0.00392157,  0.03921569,  0.14117647],\n",
       "        [-0.04313725,  0.02352941,  0.15294118],\n",
       "        [-0.10588235, -0.01176471,  0.1372549 ]],\n",
       "\n",
       "       ..., \n",
       "       [[-0.00784314,  0.05882353,  0.17647059],\n",
       "        [-0.12941176, -0.01176471,  0.15294118],\n",
       "        [-0.09019608,  0.02352941,  0.18823529],\n",
       "        ..., \n",
       "        [ 0.31764706,  0.32941176,  0.36862745],\n",
       "        [ 0.34509804,  0.34117647,  0.36470588],\n",
       "        [ 0.34901961,  0.3372549 ,  0.36470588]],\n",
       "\n",
       "       [[ 0.14901961,  0.17254902,  0.25490196],\n",
       "        [ 0.20392157,  0.22352941,  0.29803922],\n",
       "        [-0.13333333, -0.00392157,  0.16470588],\n",
       "        ..., \n",
       "        [ 0.29803922,  0.29019608,  0.33333333],\n",
       "        [ 0.39607843,  0.38431373,  0.41568627],\n",
       "        [ 0.38823529,  0.37647059,  0.40392157]],\n",
       "\n",
       "       [[ 0.15294118,  0.18823529,  0.27058824],\n",
       "        [ 0.19607843,  0.21568627,  0.29411765],\n",
       "        [-0.1254902 , -0.00784314,  0.17254902],\n",
       "        ..., \n",
       "        [ 0.30196078,  0.29803922,  0.3254902 ],\n",
       "        [ 0.34509804,  0.34117647,  0.37254902],\n",
       "        [ 0.37254902,  0.36862745,  0.4       ]]])"
      ]
     },
     "execution_count": 19,
     "metadata": {},
     "output_type": "execute_result"
    }
   ],
   "source": [
    "new_signs[0]"
   ]
  },
  {
   "cell_type": "code",
   "execution_count": 24,
   "metadata": {},
   "outputs": [
    {
     "name": "stdout",
     "output_type": "stream",
     "text": [
      "INFO:tensorflow:Restoring parameters from ./lenet\n",
      "Sign 1 top predictions: 13[66.806] 9[30.367] 10[15.035] 35[14.906] 3[13.425]\n",
      "Sign 2 top predictions: 3[47.849] 2[27.934] 5[19.298] 1[6.834] 32[6.051]\n",
      "Sign 3 top predictions: 12[32.306] 17[30.241] 14[21.334] 10[19.711] 13[17.076]\n",
      "Sign 4 top predictions: 11[40.816] 30[22.592] 27[11.722] 21[8.970] 16[5.835]\n",
      "Sign 5 top predictions: 34[10.441] 20[9.254] 40[9.218] 38[5.079] 33[2.964]\n"
     ]
    }
   ],
   "source": [
    "top_k = tf.nn.top_k(logits, 5)\n",
    "\n",
    "with tf.Session() as sess:\n",
    "    # Restore variables from disk.\n",
    "    saver.restore(sess, \"./lenet\")\n",
    "    \n",
    "#     validation_accuracy = evaluate(X_valid, y_valid)\n",
    "#     test_accuracy = evaluate(X_test, y_test)\n",
    "    scores, indices = sess.run(top_k, feed_dict={x: new_signs, keep_prob: 1.0})\n",
    "    \n",
    "    for i in range(len(scores)):\n",
    "        \n",
    "        print('Sign %d top predictions: %s' % (i+1, ' '.join(map(lambda x: '%d[%.3f]' % (x[0], x[1]), zip(indices[i], scores[i])))))"
   ]
  }
 ],
 "metadata": {
  "kernelspec": {
   "display_name": "Python 3",
   "language": "python",
   "name": "python3"
  },
  "language_info": {
   "codemirror_mode": {
    "name": "ipython",
    "version": 3
   },
   "file_extension": ".py",
   "mimetype": "text/x-python",
   "name": "python",
   "nbconvert_exporter": "python",
   "pygments_lexer": "ipython3",
   "version": "3.6.2"
  }
 },
 "nbformat": 4,
 "nbformat_minor": 2
}
